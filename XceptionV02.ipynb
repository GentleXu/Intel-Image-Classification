{
 "cells": [
  {
   "cell_type": "code",
   "execution_count": 1,
   "metadata": {},
   "outputs": [
    {
     "name": "stderr",
     "output_type": "stream",
     "text": [
      "Using TensorFlow backend.\n"
     ]
    }
   ],
   "source": [
    "# import tensorflow.keras.layers as Layers\n",
    "# import tensorflow.keras.activations as Actications\n",
    "# import tensorflow.keras.models as Models\n",
    "# import tensorflow.keras.optimizers as Optimizer\n",
    "# import tensorflow.keras.metrics as Metrics\n",
    "# import tensorflow.keras.utils as Utils\n",
    "# from keras.utils.vis_utils import model_to_dot\n",
    "import os\n",
    "import matplotlib.pyplot as plot\n",
    "import cv2\n",
    "import numpy as np\n",
    "from sklearn.utils import shuffle\n",
    "from sklearn.metrics import confusion_matrix as CM\n",
    "from random import randint\n",
    "from IPython.display import SVG\n",
    "import matplotlib.gridspec as gridspec\n",
    "\n",
    "\n",
    "\n",
    "import tensorflow as tf\n",
    "import keras.backend.tensorflow_backend as ktf\n",
    "import os\n",
    "import sys\n",
    "\n",
    "import keras\n",
    "from keras.preprocessing import image\n",
    "from keras.applications import imagenet_utils\n",
    "from PIL import Image\n",
    "\n",
    "from keras.models import Model\n",
    "from keras.applications import imagenet_utils\n",
    "from keras.layers import Dense,GlobalAveragePooling2D\n",
    "from keras.layers import GlobalAveragePooling1D\n",
    "from keras.layers import Dropout\n",
    "from keras.applications import ResNet50, MobileNet, Xception\n",
    "from keras.callbacks import ModelCheckpoint, ReduceLROnPlateau, EarlyStopping, CSVLogger\n",
    "from keras.regularizers import l2\n",
    "from keras.initializers import he_normal\n",
    "\n",
    "from keras.preprocessing.image import ImageDataGenerator\n",
    "#from tqdm import tqdm\n",
    "from sklearn.model_selection import train_test_split"
   ]
  },
  {
   "cell_type": "code",
   "execution_count": 2,
   "metadata": {},
   "outputs": [],
   "source": [
    "def get_images(directory):\n",
    "    Images = []\n",
    "    Labels = []  # 0 for Building , 1 for forest, 2 for glacier, 3 for mountain, 4 for Sea , 5 for Street\n",
    "    label = 0\n",
    "    \n",
    "    for labels in os.listdir(directory): #Main Directory where each class label is present as folder name.\n",
    "        if labels == 'glacier': #Folder contain Glacier Images get the '2' class label.\n",
    "            label = 2\n",
    "        elif labels == 'sea':\n",
    "            label = 4\n",
    "        elif labels == 'buildings':\n",
    "            label = 0\n",
    "        elif labels == 'forest':\n",
    "            label = 1\n",
    "        elif labels == 'street':\n",
    "            label == 5\n",
    "        elif labels == 'mountain':\n",
    "            label = 3\n",
    "        \n",
    "        for image_file in os.listdir(directory+labels): #Extracting the file name of the image from Class Label folder\n",
    "            image = cv2.imread(directory+labels+r'/'+image_file) #Reading the image (OpenCV)\n",
    "            image = cv2.resize(image,(224,224)) #Resize the image, Some images are different sizes. (Resizing is very Important)\n",
    "            Images.append(image)\n",
    "            Labels.append(label)\n",
    "    \n",
    "    return shuffle(Images,Labels,random_state=817328462) #Shuffle the dataset you just prepared.\n",
    "\n",
    "def get_classlabel(class_code):\n",
    "    labels = {2:'glacier', 4:'sea', 0:'buildings', 1:'forest', 5:'street', 3:'mountain'}\n",
    "    \n",
    "    return labels[class_code]"
   ]
  },
  {
   "cell_type": "code",
   "execution_count": 3,
   "metadata": {},
   "outputs": [],
   "source": [
    "Images, Labels = get_images('intel-image-classification/seg_train/') #Extract the training images from the folders.\n",
    "\n",
    "Images = np.array(Images, np.float32) #converting the list of images to numpy array.\n",
    "Labels = np.array(Labels, np.float32)\n",
    "\n",
    "\n",
    "test_images,test_labels = get_images('intel-image-classification/seg_test/')\n",
    "test_images = np.array(test_images, np.float32)\n",
    "test_labels = np.array(test_labels, np.float32)\n",
    "\n",
    "#print (test_labels.shape)\n",
    "Labels = keras.utils.to_categorical(Labels, 6)\n",
    "test_labels = keras.utils.to_categorical(test_labels, 6)"
   ]
  },
  {
   "cell_type": "code",
   "execution_count": 4,
   "metadata": {},
   "outputs": [],
   "source": [
    "Epochs = 15\n",
    "regularizer = 1e-5\n",
    "batch_size = 32"
   ]
  },
  {
   "cell_type": "code",
   "execution_count": 5,
   "metadata": {},
   "outputs": [],
   "source": [
    "\n",
    "def get_train_images():\n",
    "    # reading the images\n",
    "    import pandas as pd\n",
    "    if not os.path.isfile('intel-image-classification/seg_train/'):\n",
    "        train_img = []\n",
    "        files = os.listdir('intel-image-classification/seg_train/')  # get all files in 'train' folder\n",
    "\n",
    "        for img_path in tqdm(files):\n",
    "        #img_path = 'train-00000.jpg'\n",
    "        #for i in range(10):\n",
    "            train_img.append(read_img_224('intel-image-classification/seg_train/' + img_path))\n",
    "        X_train = np.array(train_img, np.float32)\n",
    "        #pd.DataFrame(X_train).to_csv('train.csv', header=None, index=None)\n",
    "        #np.save('train', X_train)\n",
    "    #else:\n",
    "        #X_train = np.genfromtxt('train.csv', delimiter=',')\n",
    "        #X_train = np.load('train.npy')\n",
    "\n",
    "    return X_train\n",
    "#zz2 = get_train_images()\n",
    "#print (zz2.shape)"
   ]
  },
  {
   "cell_type": "code",
   "execution_count": 6,
   "metadata": {},
   "outputs": [],
   "source": [
    "def train_gen(x,y,batch_size=32):\n",
    "    train_datagen = ImageDataGenerator(\n",
    "        #rescale=1. / 255,\n",
    "        rescale=None,\n",
    "        shear_range=0.2,\n",
    "        #featurewise_center=True,\n",
    "        #featurewise_std_normalization=True,\n",
    "        rotation_range=20,\n",
    "        width_shift_range=0.2,\n",
    "        height_shift_range=0.2,\n",
    "        horizontal_flip=True)\n",
    "\n",
    "    #batch_size = 16\n",
    "    train_generator = train_datagen.flow(x,y,32)\n",
    "    return train_generator,len(x)"
   ]
  },
  {
   "cell_type": "code",
   "execution_count": 7,
   "metadata": {},
   "outputs": [],
   "source": [
    "def train_aug_multitask(batch_size=32):\n",
    "    #Images, Labels = get_images('intel-image-classification/seg_train/')\n",
    "    #Images = np.array(Images) #converting the list of images to numpy array.\n",
    "    #Labels = np.array(Labels)\n",
    "    #temp1 = np.zeros((14034, 6))\n",
    "    #for i in range(14034):\n",
    "    #    for j in range(6):\n",
    "     #       if j == Labels[i]:\n",
    "       #         temp1[i][j] = 1\n",
    "    x = Images\n",
    "    y = Labels\n",
    "    print(x.shape)\n",
    "    print(y.shape)\n",
    "    return train_gen(x, y, batch_size)\n",
    "\n",
    "#zz = train_aug_multitask(batch_size=32)"
   ]
  },
  {
   "cell_type": "code",
   "execution_count": 8,
   "metadata": {},
   "outputs": [],
   "source": [
    "checkpoint = ModelCheckpoint(filepath='weights.ep{epoch:02d}-loss{val_loss:.3f}.hdf5', monitor='val_loss', verbose=1, save_best_only=True)\n",
    "reduce_lr = ReduceLROnPlateau(monitor='val_loss', factor=0.4, patience=3, verbose=1)\n",
    "early_stopping = EarlyStopping(monitor='val_loss', min_delta=0, patience=10, verbose=1)"
   ]
  },
  {
   "cell_type": "code",
   "execution_count": 9,
   "metadata": {},
   "outputs": [
    {
     "name": "stdout",
     "output_type": "stream",
     "text": [
      "(14034, 224, 224, 3)\n",
      "(14034, 6)\n"
     ]
    }
   ],
   "source": [
    "train_aug_gen, len_train = train_aug_multitask(batch_size=batch_size)"
   ]
  },
  {
   "cell_type": "code",
   "execution_count": 10,
   "metadata": {},
   "outputs": [
    {
     "name": "stdout",
     "output_type": "stream",
     "text": [
      "WARNING:tensorflow:From /home/ubuntu/anaconda3/envs/tensorflow_p36/lib/python3.6/site-packages/tensorflow/python/framework/op_def_library.py:263: colocate_with (from tensorflow.python.framework.ops) is deprecated and will be removed in a future version.\n",
      "Instructions for updating:\n",
      "Colocations handled automatically by placer.\n"
     ]
    }
   ],
   "source": [
    "base_model = Xception(include_top = False, weights = 'imagenet', input_shape = (224, 224, 3), pooling = 'avg')"
   ]
  },
  {
   "cell_type": "code",
   "execution_count": 11,
   "metadata": {},
   "outputs": [],
   "source": [
    "features = base_model.output"
   ]
  },
  {
   "cell_type": "code",
   "execution_count": 12,
   "metadata": {},
   "outputs": [],
   "source": [
    "# add a global spatial average pooling layer\n",
    "#features = base_model.output\n",
    "\n",
    "#print (features.shape)\n",
    "#features = Dropout(0.5)(features)\n",
    "#features = GlobalAveragePooling2D()(features)\n",
    "# let's add a fully-connected layer\n",
    "#features = Dense(2048, activation='relu')(features)\n",
    "# and a logistic layer -- let's say we have 200 classes\n",
    "#features = Dense(200, activation='relu')(features)\n",
    "\n",
    "#predFC = Dense(6,activation='softmax', name='multi-labels', kernel_regularizer=l2(regularizer), bias_regularizer=l2(regularizer),kernel_initializer=he_normal())(features)\n",
    "predFC = Dense(6,activation='softmax')(features)  \n",
    "#final layer with softmax activation, output as probability\n"
   ]
  },
  {
   "cell_type": "code",
   "execution_count": 13,
   "metadata": {},
   "outputs": [],
   "source": [
    "model = Model(inputs=base_model.input, outputs=predFC)\n",
    "#model = base_model\n",
    "#model.add(Layers.Flatten())"
   ]
  },
  {
   "cell_type": "code",
   "execution_count": 14,
   "metadata": {},
   "outputs": [],
   "source": [
    "from keras.optimizers import SGD\n",
    "#model.compile(optimizer = 'SGD', loss = 'binary_crossentropy', metrics= ['accuracy'], loss_weights = [2.0])\n",
    "model.compile(optimizer = 'SGD', loss = 'categorical_crossentropy', metrics= ['accuracy'])"
   ]
  },
  {
   "cell_type": "code",
   "execution_count": 24,
   "metadata": {},
   "outputs": [
    {
     "name": "stdout",
     "output_type": "stream",
     "text": [
      "WARNING:tensorflow:From /home/ubuntu/anaconda3/envs/tensorflow_p36/lib/python3.6/site-packages/tensorflow/python/ops/math_ops.py:3066: to_int32 (from tensorflow.python.ops.math_ops) is deprecated and will be removed in a future version.\n",
      "Instructions for updating:\n",
      "Use tf.cast instead.\n",
      "Epoch 1/5\n",
      "438/438 [==============================] - 166s 379ms/step - loss: 0.4011 - acc: 0.8487 - val_loss: 0.2588 - val_acc: 0.9093\n",
      "\n",
      "Epoch 00001: val_loss improved from inf to 0.25877, saving model to weights.ep01-loss0.259.hdf5\n",
      "Epoch 2/5\n",
      "438/438 [==============================] - 162s 369ms/step - loss: 0.2636 - acc: 0.9067 - val_loss: 0.2225 - val_acc: 0.9130\n",
      "\n",
      "Epoch 00002: val_loss improved from 0.25877 to 0.22249, saving model to weights.ep02-loss0.222.hdf5\n",
      "Epoch 3/5\n",
      "438/438 [==============================] - 162s 369ms/step - loss: 0.2129 - acc: 0.9227 - val_loss: 0.1976 - val_acc: 0.9320\n",
      "\n",
      "Epoch 00003: val_loss improved from 0.22249 to 0.19757, saving model to weights.ep03-loss0.198.hdf5\n",
      "Epoch 4/5\n",
      "438/438 [==============================] - 161s 369ms/step - loss: 0.1915 - acc: 0.9307 - val_loss: 0.2229 - val_acc: 0.9253\n",
      "\n",
      "Epoch 00004: val_loss did not improve from 0.19757\n",
      "Epoch 5/5\n",
      "438/438 [==============================] - 161s 369ms/step - loss: 0.1688 - acc: 0.9377 - val_loss: 0.2020 - val_acc: 0.9247\n",
      "\n",
      "Epoch 00005: val_loss did not improve from 0.19757\n"
     ]
    }
   ],
   "source": [
    "trained = model.fit_generator(train_aug_gen,\n",
    "                        steps_per_epoch=len_train//batch_size,\n",
    "                        validation_data=(test_images, test_labels),\n",
    "                        epochs=Epochs, callbacks = [checkpoint, reduce_lr,early_stopping])\n",
    "\n",
    "model.save('XC-3model.h5')"
   ]
  },
  {
   "cell_type": "code",
   "execution_count": null,
   "metadata": {},
   "outputs": [
    {
     "name": "stdout",
     "output_type": "stream",
     "text": [
      "WARNING:tensorflow:From /home/ubuntu/anaconda3/envs/tensorflow_p36/lib/python3.6/site-packages/tensorflow/python/ops/math_ops.py:3066: to_int32 (from tensorflow.python.ops.math_ops) is deprecated and will be removed in a future version.\n",
      "Instructions for updating:\n",
      "Use tf.cast instead.\n",
      "Train on 9823 samples, validate on 4211 samples\n",
      "Epoch 1/15\n",
      "9823/9823 [==============================] - 475s 48ms/step - loss: 0.7302 - acc: 0.7583 - val_loss: 0.3187 - val_acc: 0.8965\n",
      "Epoch 2/15\n",
      "9823/9823 [==============================] - 466s 47ms/step - loss: 0.2891 - acc: 0.9067 - val_loss: 0.2402 - val_acc: 0.9176\n",
      "Epoch 3/15\n",
      "9823/9823 [==============================] - 466s 47ms/step - loss: 0.2152 - acc: 0.9286 - val_loss: 0.2185 - val_acc: 0.9271\n",
      "Epoch 4/15\n",
      "9823/9823 [==============================] - 466s 47ms/step - loss: 0.1722 - acc: 0.9411 - val_loss: 0.2113 - val_acc: 0.9280\n",
      "Epoch 5/15\n",
      "9823/9823 [==============================] - 466s 47ms/step - loss: 0.1320 - acc: 0.9571 - val_loss: 0.2097 - val_acc: 0.9285\n",
      "Epoch 6/15\n",
      "9823/9823 [==============================] - 466s 47ms/step - loss: 0.1047 - acc: 0.9673 - val_loss: 0.2148 - val_acc: 0.9271\n",
      "Epoch 7/15\n",
      "9823/9823 [==============================] - 466s 47ms/step - loss: 0.0860 - acc: 0.9734 - val_loss: 0.2161 - val_acc: 0.9295\n",
      "Epoch 8/15\n",
      "9823/9823 [==============================] - 466s 47ms/step - loss: 0.0684 - acc: 0.9813 - val_loss: 0.2207 - val_acc: 0.9285\n",
      "Epoch 9/15\n",
      "9823/9823 [==============================] - 465s 47ms/step - loss: 0.0531 - acc: 0.9868 - val_loss: 0.2286 - val_acc: 0.9288\n",
      "Epoch 10/15\n",
      "9823/9823 [==============================] - 466s 47ms/step - loss: 0.0431 - acc: 0.9893 - val_loss: 0.2333 - val_acc: 0.9288\n",
      "Epoch 11/15\n",
      "9823/9823 [==============================] - 466s 47ms/step - loss: 0.0351 - acc: 0.9905 - val_loss: 0.2383 - val_acc: 0.9245\n",
      "Epoch 12/15\n",
      "9823/9823 [==============================] - 466s 47ms/step - loss: 0.0305 - acc: 0.9929 - val_loss: 0.2455 - val_acc: 0.9252\n",
      "Epoch 13/15\n",
      "9823/9823 [==============================] - 466s 47ms/step - loss: 0.0247 - acc: 0.9952 - val_loss: 0.2462 - val_acc: 0.9257\n",
      "Epoch 14/15\n",
      "9823/9823 [==============================] - 466s 47ms/step - loss: 0.0205 - acc: 0.9961 - val_loss: 0.2565 - val_acc: 0.9285\n",
      "Epoch 15/15\n",
      "9792/9823 [============================>.] - ETA: 1s - loss: 0.0181 - acc: 0.9965"
     ]
    }
   ],
   "source": [
    "trained = model.fit(Images, Labels, epochs=Epochs, validation_split=0.30)\n",
    "model.save('Xception_withoutDataAug_model.h5')"
   ]
  },
  {
   "cell_type": "code",
   "execution_count": 17,
   "metadata": {},
   "outputs": [
    {
     "data": {
      "image/png": "[encoded data removed]",
      "text/plain": [
       "<Figure size 432x288 with 1 Axes>"
      ]
     },
     "metadata": {},
     "output_type": "display_data"
    },
    {
     "data": {
      "image/png": "[encoded data removed]",
      "text/plain": [
       "<Figure size 432x288 with 1 Axes>"
      ]
     },
     "metadata": {},
     "output_type": "display_data"
    }
   ],
   "source": [
    "plot.plot(trained.history['acc'])\n",
    "plot.plot(trained.history['val_acc'])\n",
    "plot.title('Model accuracy')\n",
    "plot.ylabel('Accuracy')\n",
    "plot.xlabel('Epoch')\n",
    "plot.legend(['Train', 'Test'], loc='upper left')\n",
    "plot.savefig('Xception_withoutDataAug_TrainAcc')\n",
    "plot.show()\n",
    "\n",
    "plot.plot(trained.history['loss'])\n",
    "plot.plot(trained.history['val_loss'])\n",
    "plot.title('Model loss')\n",
    "plot.ylabel('Loss')\n",
    "plot.xlabel('Epoch')\n",
    "plot.legend(['Train', 'Test'], loc='upper left')\n",
    "plot.savefig('Xception_withoutDataAug_TrainLoss')\n",
    "plot.show()"
   ]
  },
  {
   "cell_type": "code",
   "execution_count": 18,
   "metadata": {},
   "outputs": [
    {
     "name": "stdout",
     "output_type": "stream",
     "text": [
      "3000/3000 [==============================] - 9s 3ms/step\n"
     ]
    },
    {
     "data": {
      "text/plain": [
       "[0.2436541570474704, 0.9313333331743876]"
      ]
     },
     "execution_count": 18,
     "metadata": {},
     "output_type": "execute_result"
    }
   ],
   "source": [
    "#test_images,test_labels = get_images('intel-image-classification/seg_test/')\n",
    "#test_images = np.array(test_images)\n",
    "#test_labels = np.array(test_labels)\n",
    "model.evaluate(test_images,test_labels, verbose=1)"
   ]
  },
  {
   "cell_type": "code",
   "execution_count": null,
   "metadata": {},
   "outputs": [],
   "source": []
  }
 ],
 "metadata": {
  "kernelspec": {
   "display_name": "Environment (conda_tensorflow_p36)",
   "language": "python",
   "name": "conda_tensorflow_p36"
  },
  "language_info": {
   "codemirror_mode": {
    "name": "ipython",
    "version": 3
   },
   "file_extension": ".py",
   "mimetype": "text/x-python",
   "name": "python",
   "nbconvert_exporter": "python",
   "pygments_lexer": "ipython3",
   "version": "3.6.5"
  }
 },
 "nbformat": 4,
 "nbformat_minor": 2
}
